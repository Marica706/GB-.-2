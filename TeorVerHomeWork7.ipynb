{
 "cells": [
  {
   "cell_type": "code",
   "execution_count": 1,
   "metadata": {},
   "outputs": [],
   "source": [
    "import numpy as np\n",
    "from math import *\n",
    "import seaborn as sbs"
   ]
  },
  {
   "cell_type": "markdown",
   "metadata": {},
   "source": [
    "### Задача 1"
   ]
  },
  {
   "cell_type": "code",
   "execution_count": 20,
   "metadata": {},
   "outputs": [],
   "source": [
    "zp = np.array ([35, 45, 190, 200, 40, 70, 54, 150, 120, 110])\n",
    "ks = np.array([401, 574, 874, 919, 459, 739, 653, 902, 746, 832],)\n",
    "n = zp.size"
   ]
  },
  {
   "cell_type": "markdown",
   "metadata": {},
   "source": [
    "y_expected_intercept=B0+B1*x, y_expected=B*x"
   ]
  },
  {
   "cell_type": "markdown",
   "metadata": {},
   "source": [
    "с интесептом, по формуле нахождения коэффициентов"
   ]
  },
  {
   "cell_type": "code",
   "execution_count": 21,
   "metadata": {},
   "outputs": [
    {
     "data": {
      "text/plain": [
       "2.620538882402765"
      ]
     },
     "execution_count": 21,
     "metadata": {},
     "output_type": "execute_result"
    }
   ],
   "source": [
    "B1 = (np.mean(zp * ks) - np.mean(zp) * np.mean(ks)) / (np.mean(zp**2) - np.mean(zp) ** 2)\n",
    "B1"
   ]
  },
  {
   "cell_type": "code",
   "execution_count": 22,
   "metadata": {},
   "outputs": [
    {
     "data": {
      "text/plain": [
       "444.1773573243596"
      ]
     },
     "execution_count": 22,
     "metadata": {},
     "output_type": "execute_result"
    }
   ],
   "source": [
    "B0 = np.mean(ks) - B1 * np.mean(zp)\n",
    "B0"
   ]
  },
  {
   "cell_type": "markdown",
   "metadata": {},
   "source": [
    "Ответ: y_expected_intercept=444.2+2.62*x"
   ]
  },
  {
   "cell_type": "code",
   "execution_count": 23,
   "metadata": {},
   "outputs": [
    {
     "data": {
      "text/plain": [
       "array([535.89621821, 562.10160703, 942.07974498, 968.2851338 ,\n",
       "       548.99891262, 627.61507909, 585.68645697, 837.25818968,\n",
       "       758.64202321, 732.43663439])"
      ]
     },
     "execution_count": 23,
     "metadata": {},
     "output_type": "execute_result"
    }
   ],
   "source": [
    "y_expected_intercept=np.array(B0+B1*zp)\n",
    "y_expected_intercept"
   ]
  },
  {
   "cell_type": "code",
   "execution_count": 24,
   "metadata": {},
   "outputs": [
    {
     "data": {
      "text/plain": [
       "6470.414201176658"
      ]
     },
     "execution_count": 24,
     "metadata": {},
     "output_type": "execute_result"
    }
   ],
   "source": [
    "mse1 = (((ks-y_expected_intercept)**2)).mean()\n",
    "mse1"
   ]
  },
  {
   "cell_type": "markdown",
   "metadata": {},
   "source": [
    "Без интерсепта, матричным методом"
   ]
  },
  {
   "cell_type": "code",
   "execution_count": 25,
   "metadata": {},
   "outputs": [],
   "source": [
    "Y = ks.reshape(-1,1)\n",
    "X = zp.reshape(-1,1)"
   ]
  },
  {
   "cell_type": "code",
   "execution_count": 26,
   "metadata": {},
   "outputs": [
    {
     "data": {
      "text/plain": [
       "5.889820420132689"
      ]
     },
     "execution_count": 26,
     "metadata": {},
     "output_type": "execute_result"
    }
   ],
   "source": [
    "B = np.dot(np.linalg.inv(np.dot(X.T,X)), X.T)@Y\n",
    "B[0,0]"
   ]
  },
  {
   "cell_type": "markdown",
   "metadata": {},
   "source": [
    "Ответ: y_expected = 5.89*х"
   ]
  },
  {
   "cell_type": "code",
   "execution_count": 27,
   "metadata": {},
   "outputs": [
    {
     "data": {
      "text/plain": [
       "array([[ 206.1437147 ,  265.04191891, 1119.06587983, 1177.96408403,\n",
       "         235.59281681,  412.28742941,  318.05030269,  883.47306302,\n",
       "         706.77845042,  647.88024621]])"
      ]
     },
     "execution_count": 27,
     "metadata": {},
     "output_type": "execute_result"
    }
   ],
   "source": [
    "y_expected = np.array(B*zp)\n",
    "y_expected"
   ]
  },
  {
   "cell_type": "code",
   "execution_count": 28,
   "metadata": {},
   "outputs": [
    {
     "data": {
      "text/plain": [
       "56516.85841571941"
      ]
     },
     "execution_count": 28,
     "metadata": {},
     "output_type": "execute_result"
    }
   ],
   "source": [
    "mse2 = (((ks-y_expected)**2)).mean()\n",
    "mse2"
   ]
  },
  {
   "cell_type": "markdown",
   "metadata": {},
   "source": [
    "### Задача 2"
   ]
  },
  {
   "cell_type": "code",
   "execution_count": 35,
   "metadata": {},
   "outputs": [],
   "source": [
    "def mse(b1):\n",
    "    y = np.array([np.dot(b1,zp)])\n",
    "    return (((ks-y)**2)).mean()"
   ]
  },
  {
   "cell_type": "code",
   "execution_count": 42,
   "metadata": {},
   "outputs": [],
   "source": [
    "beta = 0.1\n",
    "alpha=1e-5"
   ]
  },
  {
   "cell_type": "markdown",
   "metadata": {},
   "source": [
    "for i in range (10):\n",
    "    beta -= alpha*(2/n)*(np.sum((beta*zp - ks)*zp)\n",
    "    #print('Iteration: {i}, B1 = {B1}, mse = {mse}'.format(i=i, B1 = beta, mse = mse(beta)) )\n",
    " "
   ]
  },
  {
   "cell_type": "code",
   "execution_count": 43,
   "metadata": {},
   "outputs": [
    {
     "name": "stdout",
     "output_type": "stream",
     "text": [
      "Iteration: 0, B1 = 1.6952808000000004, mse = 298904.5992334053\n",
      "Iteration: 1000, B1 = 5.889820420132688, mse = 56516.8584157194\n",
      "Iteration: 2000, B1 = 5.889820420132688, mse = 56516.8584157194\n",
      "Iteration: 3000, B1 = 5.889820420132688, mse = 56516.8584157194\n",
      "Iteration: 4000, B1 = 5.889820420132688, mse = 56516.8584157194\n",
      "Iteration: 5000, B1 = 5.889820420132688, mse = 56516.8584157194\n",
      "Iteration: 6000, B1 = 5.889820420132688, mse = 56516.8584157194\n",
      "Iteration: 7000, B1 = 5.889820420132688, mse = 56516.8584157194\n",
      "Iteration: 8000, B1 = 5.889820420132688, mse = 56516.8584157194\n",
      "Iteration: 9000, B1 = 5.889820420132688, mse = 56516.8584157194\n"
     ]
    }
   ],
   "source": [
    "for i in range(10000):\n",
    "    beta -=alpha*(2/n)*np.sum(zp*(beta*zp-ks))\n",
    "    if i%1000==0:\n",
    "        print('Iteration: {i}, B1 = {B1}, mse = {mse}'.format(i=i, B1 = beta, mse = mse(beta)) )"
   ]
  },
  {
   "cell_type": "code",
   "execution_count": null,
   "metadata": {},
   "outputs": [],
   "source": []
  }
 ],
 "metadata": {
  "kernelspec": {
   "display_name": "Python 3",
   "language": "python",
   "name": "python3"
  },
  "language_info": {
   "codemirror_mode": {
    "name": "ipython",
    "version": 3
   },
   "file_extension": ".py",
   "mimetype": "text/x-python",
   "name": "python",
   "nbconvert_exporter": "python",
   "pygments_lexer": "ipython3",
   "version": "3.7.6"
  }
 },
 "nbformat": 4,
 "nbformat_minor": 4
}
